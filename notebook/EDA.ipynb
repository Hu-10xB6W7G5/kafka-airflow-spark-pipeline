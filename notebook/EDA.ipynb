{
 "cells": [
  {
   "cell_type": "code",
   "execution_count": 3,
   "id": "89ff309d-5815-49e7-b2ba-c6aea90bb701",
   "metadata": {},
   "outputs": [],
   "source": [
    "# importing neccessary packages\n",
    "import sys, os\n",
    "import pandas as pd \n",
    "import seaborn as sns  \n",
    "import matplotlib.pyplot as plt \n",
    "sns.set_style(\"darkgrid\")\n",
    "%matplotlib inline"
   ]
  },
  {
   "cell_type": "code",
   "execution_count": 6,
   "id": "ea0c2681-a5f2-4bf4-a2a5-1fc07563c9a4",
   "metadata": {},
   "outputs": [],
   "source": [
    "# Loading dataset\n",
    "data = pd.read_csv('../data/Amharic_News_Dataset.csv')"
   ]
  },
  {
   "cell_type": "code",
   "execution_count": 5,
   "id": "4f4b7199",
   "metadata": {},
   "outputs": [
    {
     "data": {
      "text/html": [
       "<div>\n",
       "<style scoped>\n",
       "    .dataframe tbody tr th:only-of-type {\n",
       "        vertical-align: middle;\n",
       "    }\n",
       "\n",
       "    .dataframe tbody tr th {\n",
       "        vertical-align: top;\n",
       "    }\n",
       "\n",
       "    .dataframe thead th {\n",
       "        text-align: right;\n",
       "    }\n",
       "</style>\n",
       "<table border=\"1\" class=\"dataframe\">\n",
       "  <thead>\n",
       "    <tr style=\"text-align: right;\">\n",
       "      <th></th>\n",
       "      <th>headline</th>\n",
       "      <th>category</th>\n",
       "      <th>date</th>\n",
       "      <th>views</th>\n",
       "      <th>article</th>\n",
       "      <th>link</th>\n",
       "    </tr>\n",
       "  </thead>\n",
       "  <tbody>\n",
       "    <tr>\n",
       "      <th>0</th>\n",
       "      <td>የኦሊምፒክ ማጣሪያ ተሳታፊዎች የሚለዩበት ቻምፒዮና እየተካሄደ ይገኛል</td>\n",
       "      <td>ስፖርት</td>\n",
       "      <td>January 14, 2021</td>\n",
       "      <td>2</td>\n",
       "      <td>ብርሃን ፈይሳየኢትዮጵያ ቦክስ ፌዴሬሽን በየዓመቱ የሚያዘጋጀው የክለቦች ቻ...</td>\n",
       "      <td>https://www.press.et/Ama/?p=39481</td>\n",
       "    </tr>\n",
       "    <tr>\n",
       "      <th>1</th>\n",
       "      <td>አዲስ ዘመን ድሮ</td>\n",
       "      <td>መዝናኛ</td>\n",
       "      <td>December 28, 2020</td>\n",
       "      <td>4</td>\n",
       "      <td>የአዲስ ዘመን ጋዜጣ ቀደምት ዘገባዎች በእጅጉ ተነባቢ ዛሬም ላገኛቸው በ...</td>\n",
       "      <td>https://www.press.et/Ama/?p=38334</td>\n",
       "    </tr>\n",
       "    <tr>\n",
       "      <th>2</th>\n",
       "      <td>የአረንጓዴ ጎርፍ በጎ አድራጎት አምባሳደሮች ተሰየሙ</td>\n",
       "      <td>ስፖርት</td>\n",
       "      <td>January 6, 2021</td>\n",
       "      <td>6</td>\n",
       "      <td>ቦጋለ አበበየአዲስ አበባ ከተማ አስተዳደር ስፖርት ኮሚሽን ከኢትዮጵያ አረ...</td>\n",
       "      <td>https://www.press.et/Ama/?p=39010</td>\n",
       "    </tr>\n",
       "    <tr>\n",
       "      <th>3</th>\n",
       "      <td>የሊጉ በቢዝነስ ሞዴል መመራት አበረታች ጅምር መሆኑ ተገለጸ</td>\n",
       "      <td>ስፖርት</td>\n",
       "      <td>January 6, 2021</td>\n",
       "      <td>5</td>\n",
       "      <td>ብርሃን ፈይሳአዲስ አበባ፡- የኢትዮጵያ ፕሪምየር ሊግ በሼር ካምፓኒ እንዲ...</td>\n",
       "      <td>https://www.press.et/Ama/?p=39011</td>\n",
       "    </tr>\n",
       "    <tr>\n",
       "      <th>4</th>\n",
       "      <td>የኦሊምፒክ ሥራ አስፈፃሚው እስከ ቶኪዮ ኦሊምፒክ ማግስት ይቀጥላል</td>\n",
       "      <td>ስፖርት</td>\n",
       "      <td>January 6, 2021</td>\n",
       "      <td>12</td>\n",
       "      <td>ቦጋለ አበበ የኢትዮጵያ ኦሊምፒክ ኮሚቴ አርባ አምስተኛ መደበኛ ጠቅላላ ጉ...</td>\n",
       "      <td>https://www.press.et/Ama/?p=39012</td>\n",
       "    </tr>\n",
       "  </tbody>\n",
       "</table>\n",
       "</div>"
      ],
      "text/plain": [
       "                                      headline category               date  \\\n",
       "0  የኦሊምፒክ ማጣሪያ ተሳታፊዎች የሚለዩበት ቻምፒዮና እየተካሄደ ይገኛል     ስፖርት   January 14, 2021   \n",
       "1                                   አዲስ ዘመን ድሮ     መዝናኛ  December 28, 2020   \n",
       "2             የአረንጓዴ ጎርፍ በጎ አድራጎት አምባሳደሮች ተሰየሙ     ስፖርት    January 6, 2021   \n",
       "3        የሊጉ በቢዝነስ ሞዴል መመራት አበረታች ጅምር መሆኑ ተገለጸ     ስፖርት    January 6, 2021   \n",
       "4    የኦሊምፒክ ሥራ አስፈፃሚው እስከ ቶኪዮ ኦሊምፒክ ማግስት ይቀጥላል     ስፖርት    January 6, 2021   \n",
       "\n",
       "  views                                            article  \\\n",
       "0     2  ብርሃን ፈይሳየኢትዮጵያ ቦክስ ፌዴሬሽን በየዓመቱ የሚያዘጋጀው የክለቦች ቻ...   \n",
       "1     4   የአዲስ ዘመን ጋዜጣ ቀደምት ዘገባዎች በእጅጉ ተነባቢ ዛሬም ላገኛቸው በ...   \n",
       "2     6  ቦጋለ አበበየአዲስ አበባ ከተማ አስተዳደር ስፖርት ኮሚሽን ከኢትዮጵያ አረ...   \n",
       "3     5  ብርሃን ፈይሳአዲስ አበባ፡- የኢትዮጵያ ፕሪምየር ሊግ በሼር ካምፓኒ እንዲ...   \n",
       "4    12  ቦጋለ አበበ የኢትዮጵያ ኦሊምፒክ ኮሚቴ አርባ አምስተኛ መደበኛ ጠቅላላ ጉ...   \n",
       "\n",
       "                                link  \n",
       "0  https://www.press.et/Ama/?p=39481  \n",
       "1  https://www.press.et/Ama/?p=38334  \n",
       "2  https://www.press.et/Ama/?p=39010  \n",
       "3  https://www.press.et/Ama/?p=39011  \n",
       "4  https://www.press.et/Ama/?p=39012  "
      ]
     },
     "execution_count": 5,
     "metadata": {},
     "output_type": "execute_result"
    }
   ],
   "source": [
    "# Dispalying head\n",
    "data.head()"
   ]
  },
  {
   "cell_type": "code",
   "execution_count": 7,
   "id": "eadeef30",
   "metadata": {},
   "outputs": [
    {
     "data": {
      "text/plain": [
       "Index(['headline', 'category', 'date', 'views', 'article', 'link'], dtype='object')"
      ]
     },
     "execution_count": 7,
     "metadata": {},
     "output_type": "execute_result"
    }
   ],
   "source": [
    "# list of columns\n",
    "data.columns"
   ]
  },
  {
   "cell_type": "code",
   "execution_count": 8,
   "id": "5b263925",
   "metadata": {},
   "outputs": [
    {
     "name": "stdout",
     "output_type": "stream",
     "text": [
      "<class 'pandas.core.frame.DataFrame'>\n",
      "RangeIndex: 51483 entries, 0 to 51482\n",
      "Data columns (total 6 columns):\n",
      " #   Column    Non-Null Count  Dtype \n",
      "---  ------    --------------  ----- \n",
      " 0   headline  51470 non-null  object\n",
      " 1   category  51482 non-null  object\n",
      " 2   date      51483 non-null  object\n",
      " 3   views     51483 non-null  object\n",
      " 4   article   51483 non-null  object\n",
      " 5   link      51483 non-null  object\n",
      "dtypes: object(6)\n",
      "memory usage: 2.4+ MB\n"
     ]
    }
   ],
   "source": [
    "# data inforamtion \n",
    "data.info()"
   ]
  },
  {
   "cell_type": "code",
   "execution_count": 9,
   "id": "a7487e83",
   "metadata": {},
   "outputs": [
    {
     "data": {
      "text/plain": [
       "51483"
      ]
     },
     "execution_count": 9,
     "metadata": {},
     "output_type": "execute_result"
    }
   ],
   "source": [
    "# size of data\n",
    "len(data)"
   ]
  },
  {
   "cell_type": "code",
   "execution_count": 11,
   "id": "52bf8bf9",
   "metadata": {},
   "outputs": [
    {
     "data": {
      "text/html": [
       "<div>\n",
       "<style scoped>\n",
       "    .dataframe tbody tr th:only-of-type {\n",
       "        vertical-align: middle;\n",
       "    }\n",
       "\n",
       "    .dataframe tbody tr th {\n",
       "        vertical-align: top;\n",
       "    }\n",
       "\n",
       "    .dataframe thead th {\n",
       "        text-align: right;\n",
       "    }\n",
       "</style>\n",
       "<table border=\"1\" class=\"dataframe\">\n",
       "  <thead>\n",
       "    <tr style=\"text-align: right;\">\n",
       "      <th></th>\n",
       "      <th>headline</th>\n",
       "      <th>category</th>\n",
       "      <th>date</th>\n",
       "      <th>views</th>\n",
       "      <th>article</th>\n",
       "      <th>link</th>\n",
       "    </tr>\n",
       "  </thead>\n",
       "  <tbody>\n",
       "    <tr>\n",
       "      <th>0</th>\n",
       "      <td>False</td>\n",
       "      <td>False</td>\n",
       "      <td>False</td>\n",
       "      <td>False</td>\n",
       "      <td>False</td>\n",
       "      <td>False</td>\n",
       "    </tr>\n",
       "    <tr>\n",
       "      <th>1</th>\n",
       "      <td>False</td>\n",
       "      <td>False</td>\n",
       "      <td>False</td>\n",
       "      <td>False</td>\n",
       "      <td>False</td>\n",
       "      <td>False</td>\n",
       "    </tr>\n",
       "    <tr>\n",
       "      <th>2</th>\n",
       "      <td>False</td>\n",
       "      <td>False</td>\n",
       "      <td>False</td>\n",
       "      <td>False</td>\n",
       "      <td>False</td>\n",
       "      <td>False</td>\n",
       "    </tr>\n",
       "    <tr>\n",
       "      <th>3</th>\n",
       "      <td>False</td>\n",
       "      <td>False</td>\n",
       "      <td>False</td>\n",
       "      <td>False</td>\n",
       "      <td>False</td>\n",
       "      <td>False</td>\n",
       "    </tr>\n",
       "    <tr>\n",
       "      <th>4</th>\n",
       "      <td>False</td>\n",
       "      <td>False</td>\n",
       "      <td>False</td>\n",
       "      <td>False</td>\n",
       "      <td>False</td>\n",
       "      <td>False</td>\n",
       "    </tr>\n",
       "    <tr>\n",
       "      <th>...</th>\n",
       "      <td>...</td>\n",
       "      <td>...</td>\n",
       "      <td>...</td>\n",
       "      <td>...</td>\n",
       "      <td>...</td>\n",
       "      <td>...</td>\n",
       "    </tr>\n",
       "    <tr>\n",
       "      <th>51478</th>\n",
       "      <td>False</td>\n",
       "      <td>False</td>\n",
       "      <td>False</td>\n",
       "      <td>False</td>\n",
       "      <td>False</td>\n",
       "      <td>False</td>\n",
       "    </tr>\n",
       "    <tr>\n",
       "      <th>51479</th>\n",
       "      <td>False</td>\n",
       "      <td>False</td>\n",
       "      <td>False</td>\n",
       "      <td>False</td>\n",
       "      <td>False</td>\n",
       "      <td>False</td>\n",
       "    </tr>\n",
       "    <tr>\n",
       "      <th>51480</th>\n",
       "      <td>False</td>\n",
       "      <td>False</td>\n",
       "      <td>False</td>\n",
       "      <td>False</td>\n",
       "      <td>False</td>\n",
       "      <td>False</td>\n",
       "    </tr>\n",
       "    <tr>\n",
       "      <th>51481</th>\n",
       "      <td>False</td>\n",
       "      <td>False</td>\n",
       "      <td>False</td>\n",
       "      <td>False</td>\n",
       "      <td>False</td>\n",
       "      <td>False</td>\n",
       "    </tr>\n",
       "    <tr>\n",
       "      <th>51482</th>\n",
       "      <td>False</td>\n",
       "      <td>False</td>\n",
       "      <td>False</td>\n",
       "      <td>False</td>\n",
       "      <td>False</td>\n",
       "      <td>False</td>\n",
       "    </tr>\n",
       "  </tbody>\n",
       "</table>\n",
       "<p>51483 rows × 6 columns</p>\n",
       "</div>"
      ],
      "text/plain": [
       "       headline  category   date  views  article   link\n",
       "0         False     False  False  False    False  False\n",
       "1         False     False  False  False    False  False\n",
       "2         False     False  False  False    False  False\n",
       "3         False     False  False  False    False  False\n",
       "4         False     False  False  False    False  False\n",
       "...         ...       ...    ...    ...      ...    ...\n",
       "51478     False     False  False  False    False  False\n",
       "51479     False     False  False  False    False  False\n",
       "51480     False     False  False  False    False  False\n",
       "51481     False     False  False  False    False  False\n",
       "51482     False     False  False  False    False  False\n",
       "\n",
       "[51483 rows x 6 columns]"
      ]
     },
     "execution_count": 11,
     "metadata": {},
     "output_type": "execute_result"
    }
   ],
   "source": [
    "data.isnull()"
   ]
  },
  {
   "cell_type": "code",
   "execution_count": 12,
   "id": "64854e22",
   "metadata": {},
   "outputs": [],
   "source": [
    "data = data.dropna(subset=['article'])"
   ]
  },
  {
   "cell_type": "code",
   "execution_count": 13,
   "id": "b3f69f5f",
   "metadata": {},
   "outputs": [
    {
     "data": {
      "text/html": [
       "<div>\n",
       "<style scoped>\n",
       "    .dataframe tbody tr th:only-of-type {\n",
       "        vertical-align: middle;\n",
       "    }\n",
       "\n",
       "    .dataframe tbody tr th {\n",
       "        vertical-align: top;\n",
       "    }\n",
       "\n",
       "    .dataframe thead th {\n",
       "        text-align: right;\n",
       "    }\n",
       "</style>\n",
       "<table border=\"1\" class=\"dataframe\">\n",
       "  <thead>\n",
       "    <tr style=\"text-align: right;\">\n",
       "      <th></th>\n",
       "      <th>headline</th>\n",
       "      <th>category</th>\n",
       "      <th>date</th>\n",
       "      <th>views</th>\n",
       "      <th>article</th>\n",
       "      <th>link</th>\n",
       "      <th>word_len</th>\n",
       "    </tr>\n",
       "  </thead>\n",
       "  <tbody>\n",
       "    <tr>\n",
       "      <th>0</th>\n",
       "      <td>የኦሊምፒክ ማጣሪያ ተሳታፊዎች የሚለዩበት ቻምፒዮና እየተካሄደ ይገኛል</td>\n",
       "      <td>ስፖርት</td>\n",
       "      <td>January 14, 2021</td>\n",
       "      <td>2</td>\n",
       "      <td>ብርሃን ፈይሳየኢትዮጵያ ቦክስ ፌዴሬሽን በየዓመቱ የሚያዘጋጀው የክለቦች ቻ...</td>\n",
       "      <td>https://www.press.et/Ama/?p=39481</td>\n",
       "      <td>298</td>\n",
       "    </tr>\n",
       "    <tr>\n",
       "      <th>1</th>\n",
       "      <td>አዲስ ዘመን ድሮ</td>\n",
       "      <td>መዝናኛ</td>\n",
       "      <td>December 28, 2020</td>\n",
       "      <td>4</td>\n",
       "      <td>የአዲስ ዘመን ጋዜጣ ቀደምት ዘገባዎች በእጅጉ ተነባቢ ዛሬም ላገኛቸው በ...</td>\n",
       "      <td>https://www.press.et/Ama/?p=38334</td>\n",
       "      <td>475</td>\n",
       "    </tr>\n",
       "    <tr>\n",
       "      <th>2</th>\n",
       "      <td>የአረንጓዴ ጎርፍ በጎ አድራጎት አምባሳደሮች ተሰየሙ</td>\n",
       "      <td>ስፖርት</td>\n",
       "      <td>January 6, 2021</td>\n",
       "      <td>6</td>\n",
       "      <td>ቦጋለ አበበየአዲስ አበባ ከተማ አስተዳደር ስፖርት ኮሚሽን ከኢትዮጵያ አረ...</td>\n",
       "      <td>https://www.press.et/Ama/?p=39010</td>\n",
       "      <td>265</td>\n",
       "    </tr>\n",
       "    <tr>\n",
       "      <th>3</th>\n",
       "      <td>የሊጉ በቢዝነስ ሞዴል መመራት አበረታች ጅምር መሆኑ ተገለጸ</td>\n",
       "      <td>ስፖርት</td>\n",
       "      <td>January 6, 2021</td>\n",
       "      <td>5</td>\n",
       "      <td>ብርሃን ፈይሳአዲስ አበባ፡- የኢትዮጵያ ፕሪምየር ሊግ በሼር ካምፓኒ እንዲ...</td>\n",
       "      <td>https://www.press.et/Ama/?p=39011</td>\n",
       "      <td>296</td>\n",
       "    </tr>\n",
       "    <tr>\n",
       "      <th>4</th>\n",
       "      <td>የኦሊምፒክ ሥራ አስፈፃሚው እስከ ቶኪዮ ኦሊምፒክ ማግስት ይቀጥላል</td>\n",
       "      <td>ስፖርት</td>\n",
       "      <td>January 6, 2021</td>\n",
       "      <td>12</td>\n",
       "      <td>ቦጋለ አበበ የኢትዮጵያ ኦሊምፒክ ኮሚቴ አርባ አምስተኛ መደበኛ ጠቅላላ ጉ...</td>\n",
       "      <td>https://www.press.et/Ama/?p=39012</td>\n",
       "      <td>476</td>\n",
       "    </tr>\n",
       "  </tbody>\n",
       "</table>\n",
       "</div>"
      ],
      "text/plain": [
       "                                      headline category               date  \\\n",
       "0  የኦሊምፒክ ማጣሪያ ተሳታፊዎች የሚለዩበት ቻምፒዮና እየተካሄደ ይገኛል     ስፖርት   January 14, 2021   \n",
       "1                                   አዲስ ዘመን ድሮ     መዝናኛ  December 28, 2020   \n",
       "2             የአረንጓዴ ጎርፍ በጎ አድራጎት አምባሳደሮች ተሰየሙ     ስፖርት    January 6, 2021   \n",
       "3        የሊጉ በቢዝነስ ሞዴል መመራት አበረታች ጅምር መሆኑ ተገለጸ     ስፖርት    January 6, 2021   \n",
       "4    የኦሊምፒክ ሥራ አስፈፃሚው እስከ ቶኪዮ ኦሊምፒክ ማግስት ይቀጥላል     ስፖርት    January 6, 2021   \n",
       "\n",
       "  views                                            article  \\\n",
       "0     2  ብርሃን ፈይሳየኢትዮጵያ ቦክስ ፌዴሬሽን በየዓመቱ የሚያዘጋጀው የክለቦች ቻ...   \n",
       "1     4   የአዲስ ዘመን ጋዜጣ ቀደምት ዘገባዎች በእጅጉ ተነባቢ ዛሬም ላገኛቸው በ...   \n",
       "2     6  ቦጋለ አበበየአዲስ አበባ ከተማ አስተዳደር ስፖርት ኮሚሽን ከኢትዮጵያ አረ...   \n",
       "3     5  ብርሃን ፈይሳአዲስ አበባ፡- የኢትዮጵያ ፕሪምየር ሊግ በሼር ካምፓኒ እንዲ...   \n",
       "4    12  ቦጋለ አበበ የኢትዮጵያ ኦሊምፒክ ኮሚቴ አርባ አምስተኛ መደበኛ ጠቅላላ ጉ...   \n",
       "\n",
       "                                link  word_len  \n",
       "0  https://www.press.et/Ama/?p=39481       298  \n",
       "1  https://www.press.et/Ama/?p=38334       475  \n",
       "2  https://www.press.et/Ama/?p=39010       265  \n",
       "3  https://www.press.et/Ama/?p=39011       296  \n",
       "4  https://www.press.et/Ama/?p=39012       476  "
      ]
     },
     "execution_count": 13,
     "metadata": {},
     "output_type": "execute_result"
    }
   ],
   "source": [
    "data['word_len'] = data['article'].str.split().str.len()\n",
    "data.head()"
   ]
  },
  {
   "cell_type": "code",
   "execution_count": 14,
   "id": "92e2deb5",
   "metadata": {},
   "outputs": [
    {
     "data": {
      "text/plain": [
       "https://amharic.voanews.com//a/london-marathon/5608398.html                                                                                                                                                                      3\n",
       "https://amharic.voanews.com//a/ethiopia-tigrai-mekele/5679989.html                                                                                                                                                               3\n",
       "https://amharic.voanews.com//a/ethiopia-political-crisis-tplf-and-adp-voa-crossfire-alula-kebede-july-2019/4998828.html                                                                                                          3\n",
       "https://amharic.voanews.com//a/bale-roba-road-closure/5461608.html                                                                                                                                                               3\n",
       "https://amharic.voanews.com//a/covid-main/5443343.html                                                                                                                                                                           3\n",
       "                                                                                                                                                                                                                                ..\n",
       "https://www.fanabc.com/%e1%89%a3%e1%88%88%e1%8d%89%e1%89%b5-24-%e1%88%b0%e1%8b%93%e1%89%b3%e1%89%b5-%e1%88%881-%e1%88%ba%e1%88%85-758-%e1%88%b0%e1%8b%8e%e1%89%bd-%e1%8b%a8%e1%88%8b%e1%89%a6%e1%88%ab%e1%89%b6%e1%88%aa/        1\n",
       "https://www.fanabc.com/%e1%89%a0%e1%8c%8e%e1%8d%8b-%e1%8b%9e%e1%8a%95-4-%e1%88%b0%e1%8b%8e%e1%89%bd-%e1%89%a0%e1%8b%b0%e1%88%ab%e1%88%bd-%e1%8b%8d%e1%88%80-%e1%89%b0%e1%8b%88%e1%88%b5%e1%8b%b0%e1%8b%8d-%e1%88%85%e1%8b%ad/    1\n",
       "https://www.fanabc.com/%e1%8a%a2%e1%8a%95%e1%8c%82%e1%8a%90%e1%88%ad-%e1%89%b3%e1%8a%a8%e1%88%88-%e1%8a%a1%e1%88%9b-%e1%8a%a8%e1%88%80%e1%8b%ad%e1%88%9b%e1%8a%96%e1%89%b5-%e1%8a%a0%e1%89%a3%e1%89%b6%e1%89%bd-%e1%8c%8b/       1\n",
       "https://www.fanabc.com/%e1%8c%a0-%e1%88%9a-%e1%8b%90%e1%89%a2%e1%8b%ad-%e1%8a%a8%e1%8d%95%e1%88%ac%e1%8b%9a%e1%8b%b3%e1%8a%95%e1%89%b5-%e1%8a%a2%e1%88%b3%e1%8b%ab%e1%88%b5-%e1%8a%a0%e1%8d%88%e1%8b%88%e1%88%ad%e1%89%82-2/     1\n",
       "https://waltainfo.com/am/32586/                                                                                                                                                                                                  1\n",
       "Name: link, Length: 50778, dtype: int64"
      ]
     },
     "execution_count": 14,
     "metadata": {},
     "output_type": "execute_result"
    }
   ],
   "source": [
    "data['link'].value_counts()"
   ]
  },
  {
   "cell_type": "code",
   "execution_count": 15,
   "id": "2fc23184",
   "metadata": {},
   "outputs": [
    {
     "data": {
      "text/plain": [
       "248.9586853912942"
      ]
     },
     "execution_count": 15,
     "metadata": {},
     "output_type": "execute_result"
    }
   ],
   "source": [
    "data.word_len.mean()"
   ]
  },
  {
   "cell_type": "code",
   "execution_count": 16,
   "id": "72ff6b3c",
   "metadata": {},
   "outputs": [
    {
     "data": {
      "text/plain": [
       "array(['ስፖርት', 'መዝናኛ', 'ሀገር አቀፍ ዜና', 'ቢዝነስ', 'ዓለም አቀፍ ዜና', 'ፖለቲካ', nan],\n",
       "      dtype=object)"
      ]
     },
     "execution_count": 16,
     "metadata": {},
     "output_type": "execute_result"
    }
   ],
   "source": [
    "data.category.unique()"
   ]
  },
  {
   "cell_type": "code",
   "execution_count": 18,
   "id": "4b0caf91",
   "metadata": {},
   "outputs": [
    {
     "data": {
      "text/plain": [
       "'ብርሃን ፈይሳየኢትዮጵያ ቦክስ ፌዴሬሽን በየዓመቱ የሚያዘጋጀው የክለቦች ቻምፒዮና በአዲስ አበባ ከተማ በመካሄድ ላይ ይገኛል። የተሻለ ብቃት ያሳዩ ቦክሰኞች ለቶኪዮ ኦሊምፒክ ማጣሪያ ተሳታፊ እንደሚሆኑም ታውቋል።በቦክስ ስፖርት ከሚካሄዱት ዓመታዊ ቻምፒዮናዎች መካከል አንዱ በክለቦች መካከል የሚካሄደው ነው፤ የዚህ ውድድር የመጀመሪያው ዙር በአዲስ አበባ ከተማ ተጀምሯል። የኢትዮጵያ ቦክስ ፌዴሬሽን ከአዲስ አበባ ቦክስ ፌዴሬሽን ጋር በመተባበር በተዘጋጀው በዚህ ቻምፒዮና፤ ከኮቪድ 19 ወረርሽኝ መከሰት በኋላ ለመጀመሪያ ጊዜ የተካሄደ ውድድርም ነው። በውድድሩም ላይ አምስት ክለቦች ከአዲስ አበባ (ፌዴራልፖሊስ፣ ፌዴራል ማረሚያ ቤቶች፣ አዲስ አበባ ፖሊስ፣ የኢትዮጵያ ወጣቶች ስፖርት አካዳሚ እና ኦሞቲክ ቦክስ)፣ ሁለት ክለቦች ከአማራ ክልል (ጎንደር ከነማ እና ደሴ ከነማ) እንዲሁም ድሬዳዋ ከነማ በድምሩ ስምንት ክለቦች ተሳታፊ መሆናቸውን የኢትዮጵያ ቦክስ ፌዴሬሽን መረጃ ያሳያል። በአጠቃላይ ክለቦቻቸውን ወክለውም 12 ሴትና 76 ወንድ ቦክሰኞች በጥቅሉ 88 ተወዳዳሪዎች ተሳታፊ ይሆናሉ። ውድድሩ የሚካሄደው በራስ ኃይሉ ስፖርት ትምህርትና ስልጠና ማዕከል ሲሆን፤ በ10 ክብደቶች በ49፣ 52፣ 57፣ 60፣ 63፣ 69፣ 70፣ 81፣ 89 እና 91 ኪሎ ግራሞች እየተካሄደም ይገኛል። የቦክስ ስፖርት ከንክኪ ስፖርቶች መካከል አንዱ እንደመሆኑ ጨዋታው በሚካሄድበት ወቅት ቦክሰኞቹ አካላዊ ቅርርብ ሊያደርጉ እና ሊነካኩ ይችላሉ። በመሆኑም በዚህ ረገድ ውድድሩ ሙሉ ለሙሉ የኮቪድ 19 ጥንቃቄን በተላበሰ መልኩ እየተካሄደ መሆኑን ነው ፌዴሬሽኑ ያረጋገጠው። ይኸውም ተወዳዳሪዎችና አሰልጣኞች የኮቪድ ምርመራ እንዲያደርጉና ከሌሎች ሰዎች ጋር እንዳይገናኙ በካምፕ እንዲቆዩ በማድረግ ነው። ከዚህ ባሻገር ውድድር የሚደረግበት ሪንግ ቶሎ ቶሎ በኬሚካል እንዲጸዱ እንዲሁም ተመልካቾች ውድድሩ ላይ እንዳይገኙም ተደርጓል። ኮቪድ 19 ዓለም አቀፍ ወረርሽኝ እንደመሆኑ በመላው ዓለም ስፖርታዊ ውድድሮች ተቋርጠው መቆየታቸው የሚታወስ ነው። ከእነዚህ ውድድሮች መካከል ለቶኪዮ 2020 ኦሊምፒክ የቦክስ ስፖርት ማጣሪያ የሚካሄደው ውድድር ይጠቀሳል። ውድድሮች ወደ እንቅስቃሴ መግባታቸውን ተከትሎም ማጣሪያው የሚቀጥል ይሆናል። ኢትዮጵያም በዚህ ቻምፒዮና (በመጀመሪያው ዙር) የተሻለ ብቃት ያሳዩ ቦክሰኞችን በማጣሪያው የምታሳትፍ መሆኑ ታውቋል። ቻምፒዮናው አራት ዙሮች ያሉት ሲሆን፤ ሁለተኛው ዙር ከአማራ ክልል ቦክስ ፌዴሬሽን ጋር በመሆን ጎንደር ላይ፣ ሶስተኛውን ከደቡብ ክልል ቦክስ ፌዴሬሽን ጋር በመሆን ወላይታ እንዲሁም የመጨረሻውና የማጠቃለያው ውድድር አዲስ አበባ ላይ የሚካሄድም ይሆናል። ቻምፒዮናው ጥር 4/2013 ዓም የተጀመረ ሲሆን እስከ ጥር 7/2013 ዓም ድረስም ይቆያል።'"
      ]
     },
     "execution_count": 18,
     "metadata": {},
     "output_type": "execute_result"
    }
   ],
   "source": [
    "data['article'][0]"
   ]
  },
  {
   "cell_type": "code",
   "execution_count": 15,
   "id": "e12014a4",
   "metadata": {},
   "outputs": [],
   "source": [
    "data['category'] = data['category'].replace(['መዝናኛ', 'ስፖርት','ሀገር አቀፍ ዜና', 'ቢዝነስ', 'ዓለም አቀፍ ዜና', 'ፖለቲካ'],['entertainment',\n",
    "                        'sport','world_news','busniess', 'country_news', 'politica'] )"
   ]
  },
  {
   "cell_type": "code",
   "execution_count": 16,
   "id": "fb9b1718",
   "metadata": {},
   "outputs": [
    {
     "data": {
      "text/plain": [
       "<AxesSubplot: >"
      ]
     },
     "execution_count": 16,
     "metadata": {},
     "output_type": "execute_result"
    },
    {
     "data": {
      "image/png": "[encoded data removed]",
      "text/plain": [
       "<Figure size 640x480 with 1 Axes>"
      ]
     },
     "metadata": {},
     "output_type": "display_data"
    }
   ],
   "source": [
    "data['category'].value_counts().plot(kind='bar')"
   ]
  },
  {
   "cell_type": "code",
   "execution_count": 17,
   "id": "ed4389be",
   "metadata": {},
   "outputs": [
    {
     "data": {
      "text/html": [
       "<div>\n",
       "<style scoped>\n",
       "    .dataframe tbody tr th:only-of-type {\n",
       "        vertical-align: middle;\n",
       "    }\n",
       "\n",
       "    .dataframe tbody tr th {\n",
       "        vertical-align: top;\n",
       "    }\n",
       "\n",
       "    .dataframe thead th {\n",
       "        text-align: right;\n",
       "    }\n",
       "</style>\n",
       "<table border=\"1\" class=\"dataframe\">\n",
       "  <thead>\n",
       "    <tr style=\"text-align: right;\">\n",
       "      <th></th>\n",
       "      <th>headline</th>\n",
       "      <th>category</th>\n",
       "      <th>article</th>\n",
       "    </tr>\n",
       "  </thead>\n",
       "  <tbody>\n",
       "    <tr>\n",
       "      <th>0</th>\n",
       "      <td>የኦሊምፒክ ማጣሪያ ተሳታፊዎች የሚለዩበት ቻምፒዮና እየተካሄደ ይገኛል</td>\n",
       "      <td>sport</td>\n",
       "      <td>ብርሃን ፈይሳየኢትዮጵያ ቦክስ ፌዴሬሽን በየዓመቱ የሚያዘጋጀው የክለቦች ቻ...</td>\n",
       "    </tr>\n",
       "    <tr>\n",
       "      <th>1</th>\n",
       "      <td>አዲስ ዘመን ድሮ</td>\n",
       "      <td>entertainment</td>\n",
       "      <td>የአዲስ ዘመን ጋዜጣ ቀደምት ዘገባዎች በእጅጉ ተነባቢ ዛሬም ላገኛቸው በ...</td>\n",
       "    </tr>\n",
       "    <tr>\n",
       "      <th>2</th>\n",
       "      <td>የአረንጓዴ ጎርፍ በጎ አድራጎት አምባሳደሮች ተሰየሙ</td>\n",
       "      <td>sport</td>\n",
       "      <td>ቦጋለ አበበየአዲስ አበባ ከተማ አስተዳደር ስፖርት ኮሚሽን ከኢትዮጵያ አረ...</td>\n",
       "    </tr>\n",
       "    <tr>\n",
       "      <th>3</th>\n",
       "      <td>የሊጉ በቢዝነስ ሞዴል መመራት አበረታች ጅምር መሆኑ ተገለጸ</td>\n",
       "      <td>sport</td>\n",
       "      <td>ብርሃን ፈይሳአዲስ አበባ፡- የኢትዮጵያ ፕሪምየር ሊግ በሼር ካምፓኒ እንዲ...</td>\n",
       "    </tr>\n",
       "    <tr>\n",
       "      <th>4</th>\n",
       "      <td>የኦሊምፒክ ሥራ አስፈፃሚው እስከ ቶኪዮ ኦሊምፒክ ማግስት ይቀጥላል</td>\n",
       "      <td>sport</td>\n",
       "      <td>ቦጋለ አበበ የኢትዮጵያ ኦሊምፒክ ኮሚቴ አርባ አምስተኛ መደበኛ ጠቅላላ ጉ...</td>\n",
       "    </tr>\n",
       "  </tbody>\n",
       "</table>\n",
       "</div>"
      ],
      "text/plain": [
       "                                      headline       category  \\\n",
       "0  የኦሊምፒክ ማጣሪያ ተሳታፊዎች የሚለዩበት ቻምፒዮና እየተካሄደ ይገኛል          sport   \n",
       "1                                   አዲስ ዘመን ድሮ  entertainment   \n",
       "2             የአረንጓዴ ጎርፍ በጎ አድራጎት አምባሳደሮች ተሰየሙ          sport   \n",
       "3        የሊጉ በቢዝነስ ሞዴል መመራት አበረታች ጅምር መሆኑ ተገለጸ          sport   \n",
       "4    የኦሊምፒክ ሥራ አስፈፃሚው እስከ ቶኪዮ ኦሊምፒክ ማግስት ይቀጥላል          sport   \n",
       "\n",
       "                                             article  \n",
       "0  ብርሃን ፈይሳየኢትዮጵያ ቦክስ ፌዴሬሽን በየዓመቱ የሚያዘጋጀው የክለቦች ቻ...  \n",
       "1   የአዲስ ዘመን ጋዜጣ ቀደምት ዘገባዎች በእጅጉ ተነባቢ ዛሬም ላገኛቸው በ...  \n",
       "2  ቦጋለ አበበየአዲስ አበባ ከተማ አስተዳደር ስፖርት ኮሚሽን ከኢትዮጵያ አረ...  \n",
       "3  ብርሃን ፈይሳአዲስ አበባ፡- የኢትዮጵያ ፕሪምየር ሊግ በሼር ካምፓኒ እንዲ...  \n",
       "4  ቦጋለ አበበ የኢትዮጵያ ኦሊምፒክ ኮሚቴ አርባ አምስተኛ መደበኛ ጠቅላላ ጉ...  "
      ]
     },
     "execution_count": 17,
     "metadata": {},
     "output_type": "execute_result"
    }
   ],
   "source": [
    "df = data.drop(['link', 'date', 'views'], axis=1)\n",
    "df.head()"
   ]
  }
 ],
 "metadata": {
  "kernelspec": {
   "display_name": "Python 3.10.6 64-bit",
   "language": "python",
   "name": "python3"
  },
  "language_info": {
   "codemirror_mode": {
    "name": "ipython",
    "version": 3
   },
   "file_extension": ".py",
   "mimetype": "text/x-python",
   "name": "python",
   "nbconvert_exporter": "python",
   "pygments_lexer": "ipython3",
   "version": "3.10.6"
  },
  "vscode": {
   "interpreter": {
    "hash": "916dbcbb3f70747c44a77c7bcd40155683ae19c65e1c03b4aa3499c5328201f1"
   }
  }
 },
 "nbformat": 4,
 "nbformat_minor": 5
}
